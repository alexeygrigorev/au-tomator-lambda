{
 "cells": [
  {
   "cell_type": "code",
   "execution_count": 1,
   "id": "c51b05b2-b614-4710-bd7f-76ad3e500338",
   "metadata": {},
   "outputs": [],
   "source": [
    "import os\n",
    "os.environ['FAKE_DELETE'] = '1'\n",
    "os.environ['CONFIG_FILE'] = '../automator/config.yaml'\n",
    "\n",
    "import sys\n",
    "sys.path.append('../automator')"
   ]
  },
  {
   "cell_type": "code",
   "execution_count": 2,
   "id": "bb725984-d12c-4425-9cb7-3561c7d45d88",
   "metadata": {},
   "outputs": [],
   "source": [
    "%load_ext autoreload\n",
    "%autoreload 2"
   ]
  },
  {
   "cell_type": "code",
   "execution_count": 3,
   "id": "2a140003-42a4-4113-996c-69d7fd785b9a",
   "metadata": {},
   "outputs": [],
   "source": [
    "import lambda_function"
   ]
  },
  {
   "cell_type": "code",
   "execution_count": 4,
   "id": "f8cccfdf-757b-42a3-9764-18c517093a3a",
   "metadata": {},
   "outputs": [],
   "source": [
    "import json"
   ]
  },
  {
   "cell_type": "code",
   "execution_count": 5,
   "id": "5652e340-f13f-4b2b-bc2e-68cd1df2e3da",
   "metadata": {},
   "outputs": [],
   "source": [
    "with open('../integration_tests/event.json', 'rt') as f_in:\n",
    "    event = json.load(f_in)"
   ]
  },
  {
   "cell_type": "code",
   "execution_count": 7,
   "id": "8ba1bed0-783f-4f56-baa6-660a5c71ae2a",
   "metadata": {},
   "outputs": [],
   "source": [
    "event['event']['reaction'] = 'shameless-rules'"
   ]
  },
  {
   "cell_type": "code",
   "execution_count": 8,
   "id": "6e1ee771-fb50-4d55-8fcf-176c9cf8e2b1",
   "metadata": {},
   "outputs": [
    {
     "name": "stdout",
     "output_type": "stream",
     "text": [
      "{\"token\": \"uURN4G72mcTUEu4NNlJ0RAqA\", \"team_id\": \"T01ATQK62F8\", \"context_team_id\": \"T01ATQK62F8\", \"context_enterprise_id\": null, \"api_app_id\": \"A01S395330A\", \"event\": {\"type\": \"reaction_added\", \"user\": \"U01AXE0P5M3\", \"reaction\": \"shameless-rules\", \"item\": {\"type\": \"message\", \"channel\": \"C01S3EGKMJP\", \"ts\": \"1720616707.940299\"}, \"item_user\": \"U01AXE0P5M3\", \"event_ts\": \"1720616866.006300\"}, \"type\": \"event_callback\", \"event_id\": \"Ev07BU2QDHH8\", \"event_time\": 1720616866, \"authorizations\": [{\"enterprise_id\": null, \"team_id\": \"T01ATQK62F8\", \"user_id\": \"U01AXE0P5M3\", \"is_bot\": false, \"is_enterprise_install\": false}], \"is_ext_shared_channel\": false, \"event_context\": \"4-eyJldCI6InJlYWN0aW9uX2FkZGVkIiwidGlkIjoiVDAxQVRRSzYyRjgiLCJhaWQiOiJBMDFTMzk1MzMwQSIsImNpZCI6IkMwMVMzRUdLTUpQIn0\"}\n",
      "reaction: shameless-rules\n",
      "posting Hi <@U01AXE0P5M3>!   You created this message in <#C01S3EGKMJP>:  > What is it: Product release, Hopsworks 4.0 Who is it for: ML engineers, data scientists, data engineers Why is it relevant?: Hopsworks 4.0 introduces game-changing innovations for building AI systems, whether for batch, real-time or LLM applications, all powered by our AI Lakehouse infrastructure.  Check out our <https://www.youtube.com/watch?v=kP0iU4JgIEw|release video> for the highlights :sparkles:  We want to make this community useful for everyone, that's why we ask you to follow the \"shameless channels\" template and the rules:  https://alexeygrigorev.notion.site/Shameless-promotion-rules-f565ac6aa2064f7190382f2ffd82c876  Your post was removed from the channel. Please adjust your post.  Apologies for the inconvenience. Thank you!  to U01AXE0P5M3...\n",
      "FAKE_DELETE for C01S3EGKMJP 1720616707.940299\n"
     ]
    },
    {
     "data": {
      "text/plain": [
       "{'statusCode': 200, 'body': 'done'}"
      ]
     },
     "execution_count": 8,
     "metadata": {},
     "output_type": "execute_result"
    }
   ],
   "source": [
    "lambda_function.lambda_handler(event, None)"
   ]
  },
  {
   "cell_type": "code",
   "execution_count": null,
   "id": "ac8574c4-51d9-4060-a63c-1511f72c7a52",
   "metadata": {},
   "outputs": [],
   "source": []
  }
 ],
 "metadata": {
  "kernelspec": {
   "display_name": "Python 3 (ipykernel)",
   "language": "python",
   "name": "python3"
  },
  "language_info": {
   "codemirror_mode": {
    "name": "ipython",
    "version": 3
   },
   "file_extension": ".py",
   "mimetype": "text/x-python",
   "name": "python",
   "nbconvert_exporter": "python",
   "pygments_lexer": "ipython3",
   "version": "3.12.3"
  }
 },
 "nbformat": 4,
 "nbformat_minor": 5
}
