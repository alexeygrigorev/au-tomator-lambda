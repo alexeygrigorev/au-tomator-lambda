{
 "cells": [
  {
   "cell_type": "code",
   "execution_count": 1,
   "id": "c51b05b2-b614-4710-bd7f-76ad3e500338",
   "metadata": {},
   "outputs": [],
   "source": [
    "import sys\n",
    "sys.path.append('..')"
   ]
  },
  {
   "cell_type": "code",
   "execution_count": 2,
   "id": "bb725984-d12c-4425-9cb7-3561c7d45d88",
   "metadata": {},
   "outputs": [],
   "source": [
    "%load_ext autoreload\n",
    "%autoreload 2"
   ]
  },
  {
   "cell_type": "code",
   "execution_count": 3,
   "id": "2a140003-42a4-4113-996c-69d7fd785b9a",
   "metadata": {},
   "outputs": [],
   "source": [
    "import lambda_function"
   ]
  },
  {
   "cell_type": "code",
   "execution_count": 4,
   "id": "f8cccfdf-757b-42a3-9764-18c517093a3a",
   "metadata": {},
   "outputs": [],
   "source": [
    "import json"
   ]
  },
  {
   "cell_type": "code",
   "execution_count": 43,
   "id": "c74db6b0-fbbd-4435-834b-9404ee4db4c2",
   "metadata": {},
   "outputs": [],
   "source": [
    "event = json.loads(\"\"\"{\n",
    "    \"token\": \"uURN4G72mcTUEu4NNlJ0RAqA\",\n",
    "    \"team_id\": \"T01ATQK62F8\",\n",
    "    \"context_team_id\": \"T01ATQK62F8\",\n",
    "    \"context_enterprise_id\": null,\n",
    "    \"api_app_id\": \"A01S395330A\",\n",
    "    \"event\": {\n",
    "        \"type\": \"reaction_added\",\n",
    "        \"user\": \"U01AXE0P5M3\",\n",
    "        \"reaction\": \"ask-ai\",\n",
    "        \"item\": {\n",
    "            \"type\": \"message\",\n",
    "            \"channel\": \"C01B6N9FZTN\",\n",
    "            \"ts\": \"1719501604.543759\"\n",
    "        },\n",
    "        \"item_user\": \"U06T4AE1P4J\",\n",
    "        \"event_ts\": \"1719860246.110000\"\n",
    "    },\n",
    "    \"type\": \"event_callback\",\n",
    "    \"event_id\": \"Ev07B8EZRBRN\",\n",
    "    \"event_time\": 1719860246,\n",
    "    \"authorizations\": [\n",
    "        {\n",
    "            \"enterprise_id\": null,\n",
    "            \"team_id\": \"T01ATQK62F8\",\n",
    "            \"user_id\": \"U01AXE0P5M3\",\n",
    "            \"is_bot\": false,\n",
    "            \"is_enterprise_install\": false\n",
    "        }\n",
    "    ],\n",
    "    \"is_ext_shared_channel\": false,\n",
    "    \"event_context\": \"4-eyJldCI6InJlYWN0aW9uX2FkZGVkIiwidGlkIjoiVDAxQVRRSzYyRjgiLCJhaWQiOiJBMDFTMzk1MzMwQSIsImNpZCI6IkMwMUI2TjlGWlROIn0\"\n",
    "}\"\"\")"
   ]
  },
  {
   "cell_type": "code",
   "execution_count": 44,
   "id": "a5d2a743-8a87-4e5c-a546-d65cc8c618d4",
   "metadata": {},
   "outputs": [
    {
     "name": "stdout",
     "output_type": "stream",
     "text": [
      "{\"token\": \"uURN4G72mcTUEu4NNlJ0RAqA\", \"team_id\": \"T01ATQK62F8\", \"context_team_id\": \"T01ATQK62F8\", \"context_enterprise_id\": null, \"api_app_id\": \"A01S395330A\", \"event\": {\"type\": \"reaction_added\", \"user\": \"U01AXE0P5M3\", \"reaction\": \"ask-ai\", \"item\": {\"type\": \"message\", \"channel\": \"C01B6N9FZTN\", \"ts\": \"1719501604.543759\"}, \"item_user\": \"U06T4AE1P4J\", \"event_ts\": \"1719860246.110000\"}, \"type\": \"event_callback\", \"event_id\": \"Ev07B8EZRBRN\", \"event_time\": 1719860246, \"authorizations\": [{\"enterprise_id\": null, \"team_id\": \"T01ATQK62F8\", \"user_id\": \"U01AXE0P5M3\", \"is_bot\": false, \"is_enterprise_install\": false}], \"is_ext_shared_channel\": false, \"event_context\": \"4-eyJldCI6InJlYWN0aW9uX2FkZGVkIiwidGlkIjoiVDAxQVRRSzYyRjgiLCJhaWQiOiJBMDFTMzk1MzMwQSIsImNpZCI6IkMwMUI2TjlGWlROIn0\"}\n",
      "reaction: ask-ai, action: <function ask_ai at 0x0000019396E7F060>\n",
      "response from GROQ: Congratulations on discovering your interest in Data Engineering and taking the initiative to take online courses and participate in the Zoomcamp!  Regarding your concerns about the future of Data Engineering, it's natural to have doubts, especially when considering a career transition. I'll offer some insights to help alleviate your concerns.  *Data Engineering is still a growing field:*  While it's true that some areas within the broader DevOps umbrella might be experiencing a slowdown, Data Engineering is a distinct discipline within the data science and analytics landscape. The demand for Data Engineers remains strong, driven by the increasing importance of data-driven decision-making in various industries.  *Reasons why Data Engineering is likely to remain in high demand:*  1. *Data growth and complexity:* The exponential growth of data and its increasing complexity require skilled professionals to design, build, and manage scalable, efficient, and secure data infrastructure. 2. *Digital transformation:* As more companies undergo digital transformations, they need Data Engineers to develop data pipelines, architect data warehouses, and ensure data quality, making them a critical component of these efforts. 3. *Emerging technologies:* The rise of AI, IoT, and cloud computing further increases the need for Data Engineers who can handle large-scale data processing, storage, and analytics. 4. *Shortage of skilled professionals:* The demand for Data Engineers exceeds the supply, making it a lucrative career path with a high potential for growth.  *Advice for a successful transition:*  1. *Stay upskilled and reskilled:* Continuously update your skills to stay relevant in the field. Focus on emerging technologies, tools, and methodologies. 2. *Build a strong foundation in programming:* As a non-CS graduate, focus on developing a strong programming foundation, especially in languages like Python, Java, or Scala. 3. *Network and join online communities:* Engage with Data Engineering professionals, participate in online forums, and attend industry events to stay informed about the latest developments and best practices. 4. *Highlight transferable skills:* Emphasize the skills you've developed in your previous field of study, such as problem-solving, analytical thinking, and collaboration, which are valuable in Data Engineering. 5. *Pursue certifications and projects:* Continue building projects and consider obtaining certifications like the Google Cloud Certified - Professional Data Engineer or the AWS Certified Data Analytics - Specialty to demonstrate your expertise.  *In conclusion:*  While it's essential to be aware of industry trends, Data Engineering is a promising field with a strong outlook. By staying committed to learning, upskilling, and building a strong foundation, you can set yourself up for success in this career path. Remember, it's okay to be hesitant, but don't let fear hold you back from pursuing a field you're passionate about.  I hope this helps alleviate your concerns! Do you have any specific questions or areas you'd like to discuss further?\n",
      "posting Hi <@U06T4AE1P4J>! We asked AI, and this is what it answered:  Congratulations on discovering your interest in Data Engineering and taking the initiative to take online courses and participate in the Zoomcamp!  Regarding your concerns about the future of Data Engineering, it's natural to have doubts, especially when considering a career transition. I'll offer some insights to help alleviate your concerns.  *Data Engineering is still a growing field:*  While it's true that some areas within the broader DevOps umbrella might be experiencing a slowdown, Data Engineering is a distinct discipline within the data science and analytics landscape. The demand for Data Engineers remains strong, driven by the increasing importance of data-driven decision-making in various industries.  *Reasons why Data Engineering is likely to remain in high demand:*  1. *Data growth and complexity:* The exponential growth of data and its increasing complexity require skilled professionals to design, build, and manage scalable, efficient, and secure data infrastructure. 2. *Digital transformation:* As more companies undergo digital transformations, they need Data Engineers to develop data pipelines, architect data warehouses, and ensure data quality, making them a critical component of these efforts. 3. *Emerging technologies:* The rise of AI, IoT, and cloud computing further increases the need for Data Engineers who can handle large-scale data processing, storage, and analytics. 4. *Shortage of skilled professionals:* The demand for Data Engineers exceeds the supply, making it a lucrative career path with a high potential for growth.  *Advice for a successful transition:*  1. *Stay upskilled and reskilled:* Continuously update your skills to stay relevant in the field. Focus on emerging technologies, tools, and methodologies. 2. *Build a strong foundation in programming:* As a non-CS graduate, focus on developing a strong programming foundation, especially in languages like Python, Java, or Scala. 3. *Network and join online communities:* Engage with Data Engineering professionals, participate in online forums, and attend industry events to stay informed about the latest developments and best practices. 4. *Highlight transferable skills:* Emphasize the skills you've developed in your previous field of study, such as problem-solving, analytical thinking, and collaboration, which are valuable in Data Engineering. 5. *Pursue certifications and projects:* Continue building projects and consider obtaining certifications like the Google Cloud Certified - Professional Data Engineer or the AWS Certified Data Analytics - Specialty to demonstrate your expertise.  *In conclusion:*  While it's essential to be aware of industry trends, Data Engineering is a promising field with a strong outlook. By staying committed to learning, upskilling, and building a strong foundation, you can set yourself up for success in this career path. Remember, it's okay to be hesitant, but don't let fear hold you back from pursuing a field you're passionate about.  I hope this helps alleviate your concerns! Do you have any specific questions or areas you'd like to discuss further? to C01B6N9FZTN...\n"
     ]
    },
    {
     "data": {
      "text/plain": [
       "{'statusCode': 200, 'body': 'done'}"
      ]
     },
     "execution_count": 44,
     "metadata": {},
     "output_type": "execute_result"
    }
   ],
   "source": [
    "lambda_function.lambda_handler(event, None)"
   ]
  },
  {
   "cell_type": "code",
   "execution_count": 47,
   "id": "aac74ee2-84c5-485d-977f-31e8e41dde6a",
   "metadata": {},
   "outputs": [],
   "source": [
    "user, original_message = lambda_function.get_message(event['event'])\n"
   ]
  },
  {
   "cell_type": "code",
   "execution_count": 57,
   "id": "59117d48-1600-4219-b752-ebd094281f36",
   "metadata": {},
   "outputs": [],
   "source": [
    "url = \"https://api.groq.com/openai/v1/chat/completions\"\n",
    "\n",
    "headers = {\n",
    "    'Authorization': f'Bearer {lambda_function.GROQ_API_KEY}'\n",
    "}\n",
    "\n",
    "prompt = \"You're a helpful assistant. Asnwer the following question. Restrict your answer to 2500 characters:\\n\\n\" + original_message\n",
    "\n",
    "ai_request = {\n",
    "    \"messages\": [\n",
    "        {\"role\": \"user\", \"content\": prompt},\n",
    "    ],\n",
    "    \"model\": \"llama3-70b-8192\",\n",
    "}\n",
    "\n",
    "response = requests.post(url, json=ai_request, headers=headers)\n",
    "response.raise_for_status()\n",
    "\n",
    "chat_completion = response.json()"
   ]
  },
  {
   "cell_type": "code",
   "execution_count": 58,
   "id": "15097b03-78a3-4658-97e8-130203171238",
   "metadata": {},
   "outputs": [],
   "source": [
    "    ai_response = chat_completion['choices'][0]['message']['content']\n",
    "    ai_response = slack.github_to_slack_markdown(ai_response)"
   ]
  },
  {
   "cell_type": "code",
   "execution_count": 59,
   "id": "e6576dfd-7ff1-4b06-b364-1e6f09a3a548",
   "metadata": {},
   "outputs": [],
   "source": [
    "    message = f\"\"\"\n",
    "Hi <@{user}>! We asked AI, and this is what it answered:\n",
    "\n",
    "{ai_response}\n",
    "\"\"\".strip()\n"
   ]
  },
  {
   "cell_type": "code",
   "execution_count": 60,
   "id": "ada31314-d112-40f7-8fb7-672faced0e18",
   "metadata": {},
   "outputs": [
    {
     "data": {
      "text/plain": [
       "\"Hi <@U06T4AE1P4J>! We asked AI, and this is what it answered:\\n\\nCongratulations on discovering your passion for Data Engineering and taking proactive steps to learn and build projects! It's understandable to have concerns about the field's future, especially given the post about DevOps being in a downtrend.\\n\\nHere's a reassuring perspective: Data Engineering is a rapidly growing field, driven by the increasing need for companies to manage and analyze large datasets. As data continues to grow in volume, variety, and velocity, the demand for skilled Data Engineers will persist.\\n\\nWhile DevOps might be experiencing a downturn, Data Engineering is a distinct field with its own growth trajectory. In fact, according to the 2022 Data Engineering Survey, 71% of respondents reported an increase in their organization's investment in data engineering.\\n\\nTo mitigate concerns about the field's future, consider the following:\\n\\n1. *Diversify your skills*: Focus on acquiring a broad range of skills, including data architecture, data pipelines, data warehousing, and cloud computing. This will make you adaptable to changes in the industry.\\n2. *Stay updated*: Continuously monitor industry trends, attend conferences, and participate in online forums to stay informed about the latest developments and challenges in Data Engineering.\\n3. *Network*: Connect with professionals in the field, attend meetups, and join online communities to gain insights into the industry and potential job opportunities.\\n4. *Consider the job market*: Research the job market and salary trends in Data Engineering. According to Glassdoor, the average salary for a Data Engineer in the United States is around $140,000 per year, indicating a strong demand for skilled professionals.\\n\\nGiven your passion for Data Engineering, it's worth pursuing in the long run. By diversifying your skills, staying updated, and networking, you'll be well-positioned to adapt to changes in the industry and thrive in this exciting field.\""
      ]
     },
     "execution_count": 60,
     "metadata": {},
     "output_type": "execute_result"
    }
   ],
   "source": [
    "message"
   ]
  },
  {
   "cell_type": "code",
   "execution_count": 61,
   "id": "aff1e649-f5ef-40f4-9a58-6d642987f1af",
   "metadata": {},
   "outputs": [
    {
     "name": "stdout",
     "output_type": "stream",
     "text": [
      "posting Hi <@U06T4AE1P4J>! We asked AI, and this is what it answered:  Congratulations on discovering your passion for Data Engineering and taking proactive steps to learn and build projects! It's understandable to have concerns about the field's future, especially given the post about DevOps being in a downtrend.  Here's a reassuring perspective: Data Engineering is a rapidly growing field, driven by the increasing need for companies to manage and analyze large datasets. As data continues to grow in volume, variety, and velocity, the demand for skilled Data Engineers will persist.  While DevOps might be experiencing a downturn, Data Engineering is a distinct field with its own growth trajectory. In fact, according to the 2022 Data Engineering Survey, 71% of respondents reported an increase in their organization's investment in data engineering.  To mitigate concerns about the field's future, consider the following:  1. *Diversify your skills*: Focus on acquiring a broad range of skills, including data architecture, data pipelines, data warehousing, and cloud computing. This will make you adaptable to changes in the industry. 2. *Stay updated*: Continuously monitor industry trends, attend conferences, and participate in online forums to stay informed about the latest developments and challenges in Data Engineering. 3. *Network*: Connect with professionals in the field, attend meetups, and join online communities to gain insights into the industry and potential job opportunities. 4. *Consider the job market*: Research the job market and salary trends in Data Engineering. According to Glassdoor, the average salary for a Data Engineer in the United States is around $140,000 per year, indicating a strong demand for skilled professionals.  Given your passion for Data Engineering, it's worth pursuing in the long run. By diversifying your skills, staying updated, and networking, you'll be well-positioned to adapt to changes in the industry and thrive in this exciting field. to C01B6N9FZTN...\n"
     ]
    },
    {
     "data": {
      "text/plain": [
       "{'ok': True,\n",
       " 'channel': 'C01B6N9FZTN',\n",
       " 'ts': '1719860768.925679',\n",
       " 'message': {'user': 'U01S08W6Z9T',\n",
       "  'type': 'message',\n",
       "  'ts': '1719860768.925679',\n",
       "  'bot_id': 'B01S9G1UZJQ',\n",
       "  'app_id': 'A01S395330A',\n",
       "  'text': \"Hi <@U06T4AE1P4J>! We asked AI, and this is what it answered:\\n\\nCongratulations on discovering your passion for Data Engineering and taking proactive steps to learn and build projects! It's understandable to have concerns about the field's future, especially given the post about DevOps being in a downtrend.\\n\\nHere's a reassuring perspective: Data Engineering is a rapidly growing field, driven by the increasing need for companies to manage and analyze large datasets. As data continues to grow in volume, variety, and velocity, the demand for skilled Data Engineers will persist.\\n\\nWhile DevOps might be experiencing a downturn, Data Engineering is a distinct field with its own growth trajectory. In fact, according to the 2022 Data Engineering Survey, 71% of respondents reported an increase in their organization's investment in data engineering.\\n\\nTo mitigate concerns about the field's future, consider the following:\\n\\n1. *Diversify your skills*: Focus on acquiring a broad range of skills, including data architecture, data pipelines, data warehousing, and cloud computing. This will make you adaptable to changes in the industry.\\n2. *Stay updated*: Continuously monitor industry trends, attend conferences, and participate in online forums to stay informed about the latest developments and challenges in Data Engineering.\\n3. *Network*: Connect with professionals in the field, attend meetups, and join online communities to gain insights into the industry and potential job opportunities.\\n4. *Consider the job market*: Research the job market and salary trends in Data Engineering. According to Glassdoor, the average salary for a Data Engineer in the United States is around $140,000 per year, indicating a strong demand for skilled professionals.\\n\\nGiven your passion for Data Engineering, it's worth pursuing in the long run. By diversifying your skills, staying updated, and networking, you'll be well-positioned to adapt to changes in the industry and thrive in this exciting field.\",\n",
       "  'team': 'T01ATQK62F8',\n",
       "  'bot_profile': {'id': 'B01S9G1UZJQ',\n",
       "   'app_id': 'A01S395330A',\n",
       "   'name': 'Au-Tomator',\n",
       "   'icons': {'image_36': 'https://avatars.slack-edge.com/2021-03-22/1911124369856_9b56909065e261e16499_36.png',\n",
       "    'image_48': 'https://avatars.slack-edge.com/2021-03-22/1911124369856_9b56909065e261e16499_48.png',\n",
       "    'image_72': 'https://avatars.slack-edge.com/2021-03-22/1911124369856_9b56909065e261e16499_72.png'},\n",
       "   'deleted': False,\n",
       "   'updated': 1616451337,\n",
       "   'team_id': 'T01ATQK62F8'},\n",
       "  'thread_ts': '1719501604.543759',\n",
       "  'parent_user_id': 'U06T4AE1P4J',\n",
       "  'blocks': [{'type': 'section',\n",
       "    'block_id': 'Y09yL',\n",
       "    'text': {'type': 'mrkdwn',\n",
       "     'text': \"Hi <@U06T4AE1P4J>! We asked AI, and this is what it answered:\\n\\nCongratulations on discovering your passion for Data Engineering and taking proactive steps to learn and build projects! It's understandable to have concerns about the field's future, especially given the post about DevOps being in a downtrend.\\n\\nHere's a reassuring perspective: Data Engineering is a rapidly growing field, driven by the increasing need for companies to manage and analyze large datasets. As data continues to grow in volume, variety, and velocity, the demand for skilled Data Engineers will persist.\\n\\nWhile DevOps might be experiencing a downturn, Data Engineering is a distinct field with its own growth trajectory. In fact, according to the 2022 Data Engineering Survey, 71% of respondents reported an increase in their organization's investment in data engineering.\\n\\nTo mitigate concerns about the field's future, consider the following:\\n\\n1. *Diversify your skills*: Focus on acquiring a broad range of skills, including data architecture, data pipelines, data warehousing, and cloud computing. This will make you adaptable to changes in the industry.\\n2. *Stay updated*: Continuously monitor industry trends, attend conferences, and participate in online forums to stay informed about the latest developments and challenges in Data Engineering.\\n3. *Network*: Connect with professionals in the field, attend meetups, and join online communities to gain insights into the industry and potential job opportunities.\\n4. *Consider the job market*: Research the job market and salary trends in Data Engineering. According to Glassdoor, the average salary for a Data Engineer in the United States is around $140,000 per year, indicating a strong demand for skilled professionals.\\n\\nGiven your passion for Data Engineering, it's worth pursuing in the long run. By diversifying your skills, staying updated, and networking, you'll be well-positioned to adapt to changes in the industry and thrive in this exciting field.\",\n",
       "     'verbatim': False}}]},\n",
       " 'warning': 'missing_charset',\n",
       " 'response_metadata': {'warnings': ['missing_charset']}}"
      ]
     },
     "execution_count": 61,
     "metadata": {},
     "output_type": "execute_result"
    }
   ],
   "source": [
    "slack.post_message_thread(event['event'], message)"
   ]
  },
  {
   "cell_type": "code",
   "execution_count": null,
   "id": "5652e340-f13f-4b2b-bc2e-68cd1df2e3da",
   "metadata": {},
   "outputs": [],
   "source": []
  }
 ],
 "metadata": {
  "kernelspec": {
   "display_name": "Python 3 (ipykernel)",
   "language": "python",
   "name": "python3"
  },
  "language_info": {
   "codemirror_mode": {
    "name": "ipython",
    "version": 3
   },
   "file_extension": ".py",
   "mimetype": "text/x-python",
   "name": "python",
   "nbconvert_exporter": "python",
   "pygments_lexer": "ipython3",
   "version": "3.12.3"
  }
 },
 "nbformat": 4,
 "nbformat_minor": 5
}
