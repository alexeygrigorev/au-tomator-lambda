{
 "cells": [
  {
   "cell_type": "code",
   "execution_count": 1,
   "id": "dc165159",
   "metadata": {},
   "outputs": [],
   "source": [
    "%load_ext autoreload\n",
    "%autoreload 2"
   ]
  },
  {
   "cell_type": "code",
   "execution_count": 2,
   "id": "0874e29e",
   "metadata": {},
   "outputs": [],
   "source": [
    "import sys\n",
    "sys.path.append('./src/')"
   ]
  },
  {
   "cell_type": "code",
   "execution_count": 14,
   "id": "255bc713",
   "metadata": {},
   "outputs": [],
   "source": [
    "import json"
   ]
  },
  {
   "cell_type": "code",
   "execution_count": 15,
   "id": "51394fda",
   "metadata": {},
   "outputs": [],
   "source": [
    "d = json.loads(\"{\\\"token\\\":\\\"uURN4G72mcTUEu4NNlJ0RAqA\\\",\\\"team_id\\\":\\\"T01ATQK62F8\\\",\\\"api_app_id\\\":\\\"A01S395330A\\\",\\\"event\\\":{\\\"type\\\":\\\"reaction_added\\\",\\\"user\\\":\\\"U01AXE0P5M3\\\",\\\"reaction\\\":\\\"thread\\\",\\\"item\\\":{\\\"type\\\":\\\"message\\\",\\\"channel\\\":\\\"C01S3EGKMJP\\\",\\\"ts\\\":\\\"1656274986.385959\\\"},\\\"item_user\\\":\\\"U01AXE0P5M3\\\",\\\"event_ts\\\":\\\"1662994314.000800\\\"},\\\"type\\\":\\\"event_callback\\\",\\\"event_id\\\":\\\"Ev042Q9FPJJU\\\",\\\"event_time\\\":1662994314,\\\"authorizations\\\":[{\\\"enterprise_id\\\":null,\\\"team_id\\\":\\\"T01ATQK62F8\\\",\\\"user_id\\\":\\\"U01AXE0P5M3\\\",\\\"is_bot\\\":false,\\\"is_enterprise_install\\\":false}],\\\"is_ext_shared_channel\\\":false,\\\"event_context\\\":\\\"4-eyJldCI6InJlYWN0aW9uX2FkZGVkIiwidGlkIjoiVDAxQVRRSzYyRjgiLCJhaWQiOiJBMDFTMzk1MzMwQSIsImNpZCI6IkMwMVMzRUdLTUpQIn0\\\"}\")"
   ]
  },
  {
   "cell_type": "code",
   "execution_count": 19,
   "id": "4d02f772",
   "metadata": {},
   "outputs": [
    {
     "name": "stdout",
     "output_type": "stream",
     "text": [
      "{\n",
      "    \"token\": \"uURN4G72mcTUEu4NNlJ0RAqA\",\n",
      "    \"team_id\": \"T01ATQK62F8\",\n",
      "    \"api_app_id\": \"A01S395330A\",\n",
      "    \"event\": {\n",
      "        \"type\": \"reaction_added\",\n",
      "        \"user\": \"U01AXE0P5M3\",\n",
      "        \"reaction\": \"thread\",\n",
      "        \"item\": {\n",
      "            \"type\": \"message\",\n",
      "            \"channel\": \"C01S3EGKMJP\",\n",
      "            \"ts\": \"1656274986.385959\"\n",
      "        },\n",
      "        \"item_user\": \"U01AXE0P5M3\",\n",
      "        \"event_ts\": \"1662994314.000800\"\n",
      "    },\n",
      "    \"type\": \"event_callback\",\n",
      "    \"event_id\": \"Ev042Q9FPJJU\",\n",
      "    \"event_time\": 1662994314,\n",
      "    \"authorizations\": [\n",
      "        {\n",
      "            \"enterprise_id\": null,\n",
      "            \"team_id\": \"T01ATQK62F8\",\n",
      "            \"user_id\": \"U01AXE0P5M3\",\n",
      "            \"is_bot\": false,\n",
      "            \"is_enterprise_install\": false\n",
      "        }\n",
      "    ],\n",
      "    \"is_ext_shared_channel\": false,\n",
      "    \"event_context\": \"4-eyJldCI6InJlYWN0aW9uX2FkZGVkIiwidGlkIjoiVDAxQVRRSzYyRjgiLCJhaWQiOiJBMDFTMzk1MzMwQSIsImNpZCI6IkMwMVMzRUdLTUpQIn0\"\n",
      "}\n"
     ]
    }
   ],
   "source": [
    "print(json.dumps(d, indent=4))"
   ]
  },
  {
   "cell_type": "code",
   "execution_count": 3,
   "id": "a9e42dae",
   "metadata": {},
   "outputs": [],
   "source": [
    "import yaml"
   ]
  },
  {
   "cell_type": "code",
   "execution_count": 7,
   "id": "70f88852",
   "metadata": {},
   "outputs": [],
   "source": [
    "config = yaml.safe_load(open('config.yaml'))"
   ]
  },
  {
   "cell_type": "code",
   "execution_count": 11,
   "id": "41a5a1f4",
   "metadata": {},
   "outputs": [],
   "source": [
    "reactions = config['reactions']"
   ]
  },
  {
   "cell_type": "code",
   "execution_count": 13,
   "id": "58f3d706",
   "metadata": {},
   "outputs": [
    {
     "data": {
      "text/plain": [
       "{'type': 'SLACK_POST_CHANNEL_AWARE',\n",
       " 'CHANNEL_PLACEHOLDER': {'course-ml-zoomcamp': 'https://docs.google.com/document/d/1LpPanc33QJJ6BSsyxVg-pWNMplal84TdZtq10naIhD8/edit',\n",
       "  'course-data-engineering': 'https://docs.google.com/document/d/19bnYs80DwuUimHM65UV3sylsCn2j1vziPOwzBwQrebw/edit',\n",
       "  'course-mlops-zoomcamp': 'https://docs.google.com/document/d/12TlBfhIiKtyBv8RnsoJR6F72bkPDGEvPOItJIxaEzE0/edit',\n",
       "  'default': None},\n",
       " 'default-action': 'NOOP',\n",
       " 'message': 'Please check the <{CHANNEL_PLACEHOLDER}|FAQ>\\n'}"
      ]
     },
     "execution_count": 13,
     "metadata": {},
     "output_type": "execute_result"
    }
   ],
   "source": [
    "reactions['faq']"
   ]
  },
  {
   "cell_type": "code",
   "execution_count": null,
   "id": "7f9a7c05",
   "metadata": {},
   "outputs": [],
   "source": []
  },
  {
   "cell_type": "code",
   "execution_count": 23,
   "id": "85ddb801",
   "metadata": {},
   "outputs": [],
   "source": [
    "body = {\n",
    "    \"token\": \"uURN4G72mcTUEu4NNlJ0RAqA\",\n",
    "    \"team_id\": \"T01ATQK62F8\",\n",
    "    \"api_app_id\": \"A01S395330A\",\n",
    "    \"event\": {\n",
    "        \"type\": \"reaction_added\",\n",
    "        \"user\": \"U01AXE0P5M3\",\n",
    "        \"reaction\": \"thread\",\n",
    "        \"item\": {\n",
    "            \"type\": \"message\",\n",
    "            \"channel\": \"C01S3EGKMJP\",\n",
    "            \"ts\": \"1656274986.385959\"\n",
    "        },\n",
    "        \"item_user\": \"U01AXE0P5M3\",\n",
    "        \"event_ts\": \"1662994314.000800\"\n",
    "    },\n",
    "    \"type\": \"event_callback\",\n",
    "    \"event_id\": \"Ev042Q9FPJJU\",\n",
    "    \"event_time\": 1662994314,\n",
    "    \"authorizations\": [\n",
    "        {\n",
    "            \"enterprise_id\": None,\n",
    "            \"team_id\": \"T01ATQK62F8\",\n",
    "            \"user_id\": \"U01AXE0P5M3\",\n",
    "            \"is_bot\": False,\n",
    "            \"is_enterprise_install\": False\n",
    "        }\n",
    "    ],\n",
    "    \"is_ext_shared_channel\": False,\n",
    "    \"event_context\": \"4-eyJldCI6InJlYWN0aW9uX2FkZGVkIiwidGlkIjoiVDAxQVRRSzYyRjgiLCJhaWQiOiJBMDFTMzk1MzMwQSIsImNpZCI6IkMwMVMzRUdLTUpQIn0\"\n",
    "}"
   ]
  },
  {
   "cell_type": "code",
   "execution_count": 25,
   "id": "0dedbce8",
   "metadata": {},
   "outputs": [],
   "source": [
    "test_event = {\n",
    "    \"version\": \"2.0\",\n",
    "    \"routeKey\": \"ANY /slack\",\n",
    "    \"rawPath\": \"/slack\",\n",
    "    \"rawQueryString\": \"\",\n",
    "    \"headers\": {\n",
    "        \"accept\": \"*/*\",\n",
    "        \"accept-encoding\": \"gzip,deflate\",\n",
    "        \"content-length\": \"665\",\n",
    "        \"content-type\": \"application/json\",\n",
    "        \"host\": \"vmnqlq0emg.execute-api.eu-west-1.amazonaws.com\",\n",
    "        \"user-agent\": \"Slackbot 1.0 (+https://api.slack.com/robots)\",\n",
    "        \"x-amzn-trace-id\": \"Root=1-631f478b-092f688d299a5fc519e98856\",\n",
    "        \"x-forwarded-for\": \"3.238.118.137\",\n",
    "        \"x-forwarded-port\": \"443\",\n",
    "        \"x-forwarded-proto\": \"https\",\n",
    "        \"x-slack-request-timestamp\": \"1662994315\",\n",
    "        \"x-slack-signature\": \"v0=4edf382c6d9ff06d1dc153b760e2d4beb8c006f5d03e4fa8316abb499f9a9c17\"\n",
    "    },\n",
    "    \"requestContext\": {\n",
    "        \"accountId\": \"387546586013\",\n",
    "        \"apiId\": \"vmnqlq0emg\",\n",
    "        \"domainName\": \"vmnqlq0emg.execute-api.eu-west-1.amazonaws.com\",\n",
    "        \"domainPrefix\": \"vmnqlq0emg\",\n",
    "        \"http\": {\n",
    "            \"method\": \"POST\",\n",
    "            \"path\": \"/slack\",\n",
    "            \"protocol\": \"HTTP/1.1\",\n",
    "            \"sourceIp\": \"3.238.118.137\",\n",
    "            \"userAgent\": \"Slackbot 1.0 (+https://api.slack.com/robots)\"\n",
    "        },\n",
    "        \"requestId\": \"YWgd2g_QDoEEPjw=\",\n",
    "        \"routeKey\": \"ANY /slack\",\n",
    "        \"stage\": \"$default\",\n",
    "        \"time\": \"12/Sep/2022:14:51:55 +0000\",\n",
    "        \"timeEpoch\": 1662994315605\n",
    "    },\n",
    "    \"body\": json.dumps(body),\n",
    "    \"isBase64Encoded\": False\n",
    "}"
   ]
  },
  {
   "cell_type": "code",
   "execution_count": null,
   "id": "6a4812df",
   "metadata": {},
   "outputs": [],
   "source": []
  }
 ],
 "metadata": {
  "kernelspec": {
   "display_name": "Python 3 (ipykernel)",
   "language": "python",
   "name": "python3"
  },
  "language_info": {
   "codemirror_mode": {
    "name": "ipython",
    "version": 3
   },
   "file_extension": ".py",
   "mimetype": "text/x-python",
   "name": "python",
   "nbconvert_exporter": "python",
   "pygments_lexer": "ipython3",
   "version": "3.9.7"
  },
  "vscode": {
   "interpreter": {
    "hash": "c347c8f9a7ef94e4c9e03b4513be7835ed18f45b99a2a817fb579f408b867b16"
   }
  }
 },
 "nbformat": 4,
 "nbformat_minor": 5
}
