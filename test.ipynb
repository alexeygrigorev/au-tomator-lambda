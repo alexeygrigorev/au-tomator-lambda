{
 "cells": [
  {
   "cell_type": "code",
   "execution_count": 1,
   "id": "bb725984-d12c-4425-9cb7-3561c7d45d88",
   "metadata": {},
   "outputs": [],
   "source": [
    "%load_ext autoreload\n",
    "%autoreload 2"
   ]
  },
  {
   "cell_type": "code",
   "execution_count": 2,
   "id": "2a140003-42a4-4113-996c-69d7fd785b9a",
   "metadata": {},
   "outputs": [],
   "source": [
    "import lambda_function"
   ]
  },
  {
   "cell_type": "code",
   "execution_count": 19,
   "id": "c74db6b0-fbbd-4435-834b-9404ee4db4c2",
   "metadata": {},
   "outputs": [],
   "source": [
    "event1 = {\n",
    "    \"version\": \"2.0\",\n",
    "    \"routeKey\": \"ANY /slack\",\n",
    "    \"rawPath\": \"/slack\",\n",
    "    \"rawQueryString\": \"\",\n",
    "    \"headers\": {\n",
    "        \"accept\": \"*/*\",\n",
    "        \"accept-encoding\": \"gzip,deflate\",\n",
    "        \"content-length\": \"726\",\n",
    "        \"content-type\": \"application/json\",\n",
    "        \"host\": \"vmnqlq0emg.execute-api.eu-west-1.amazonaws.com\",\n",
    "        \"user-agent\": \"Slackbot 1.0 (+https://api.slack.com/robots)\",\n",
    "        \"x-amzn-trace-id\": \"Root=1-667e3260-7de51df02b89cc5c5de0dce4\",\n",
    "        \"x-forwarded-for\": \"44.204.99.172\",\n",
    "        \"x-forwarded-port\": \"443\",\n",
    "        \"x-forwarded-proto\": \"https\",\n",
    "        \"x-slack-request-timestamp\": \"1719546464\",\n",
    "        \"x-slack-retry-num\": \"1\",\n",
    "        \"x-slack-retry-reason\": \"http_timeout\",\n",
    "        \"x-slack-signature\": \"v0=ff3e91af96b1f84f40bebabbb39ce85b755f446ee24ee4900afe46b33081f95f\"\n",
    "    },\n",
    "    \"requestContext\": {\n",
    "        \"accountId\": \"387546586013\",\n",
    "        \"apiId\": \"vmnqlq0emg\",\n",
    "        \"domainName\": \"vmnqlq0emg.execute-api.eu-west-1.amazonaws.com\",\n",
    "        \"domainPrefix\": \"vmnqlq0emg\",\n",
    "        \"http\": {\n",
    "            \"method\": \"POST\",\n",
    "            \"path\": \"/slack\",\n",
    "            \"protocol\": \"HTTP/1.1\",\n",
    "            \"sourceIp\": \"44.204.99.172\",\n",
    "            \"userAgent\": \"Slackbot 1.0 (+https://api.slack.com/robots)\"\n",
    "        },\n",
    "        \"requestId\": \"aDzPLhYUDoEEPgg=\",\n",
    "        \"routeKey\": \"ANY /slack\",\n",
    "        \"stage\": \"$default\",\n",
    "        \"time\": \"28/Jun/2024:03:47:44 +0000\",\n",
    "        \"timeEpoch\": 1719546464880\n",
    "    },\n",
    "    \"body\": \"{\\\"token\\\":\\\"uURN4G72mcTUEu4NNlJ0RAqA\\\",\\\"team_id\\\":\\\"T01ATQK62F8\\\",\\\"context_team_id\\\":\\\"T01ATQK62F8\\\",\\\"context_enterprise_id\\\":null,\\\"api_app_id\\\":\\\"A01S395330A\\\",\\\"event\\\":{\\\"type\\\":\\\"reaction_added\\\",\\\"user\\\":\\\"U01AXE0P5M3\\\",\\\"reaction\\\":\\\"ask-ai\\\",\\\"item\\\":{\\\"type\\\":\\\"message\\\",\\\"channel\\\":\\\"C01S3EGKMJP\\\",\\\"ts\\\":\\\"1719518688.333429\\\"},\\\"item_user\\\":\\\"U01AXE0P5M3\\\",\\\"event_ts\\\":\\\"1719546461.007900\\\"},\\\"type\\\":\\\"event_callback\\\",\\\"event_id\\\":\\\"Ev079ZCHBET0\\\",\\\"event_time\\\":1719546461,\\\"authorizations\\\":[{\\\"enterprise_id\\\":null,\\\"team_id\\\":\\\"T01ATQK62F8\\\",\\\"user_id\\\":\\\"U01AXE0P5M3\\\",\\\"is_bot\\\":false,\\\"is_enterprise_install\\\":false}],\\\"is_ext_shared_channel\\\":false,\\\"event_context\\\":\\\"4-eyJldCI6InJlYWN0aW9uX2FkZGVkIiwidGlkIjoiVDAxQVRRSzYyRjgiLCJhaWQiOiJBMDFTMzk1MzMwQSIsImNpZCI6IkMwMVMzRUdLTUpQIn0\\\"}\",\n",
    "    \"isBase64Encoded\": False\n",
    "}"
   ]
  },
  {
   "cell_type": "code",
   "execution_count": 4,
   "id": "f7e9838e-1b0a-48ce-a68a-d963b95df42e",
   "metadata": {},
   "outputs": [],
   "source": [
    "event2 = {\n",
    "    \"version\": \"2.0\",\n",
    "    \"routeKey\": \"ANY /slack\",\n",
    "    \"rawPath\": \"/slack\",\n",
    "    \"rawQueryString\": \"\",\n",
    "    \"headers\": {\n",
    "        \"accept\": \"*/*\",\n",
    "        \"accept-encoding\": \"gzip,deflate\",\n",
    "        \"content-length\": \"726\",\n",
    "        \"content-type\": \"application/json\",\n",
    "        \"host\": \"vmnqlq0emg.execute-api.eu-west-1.amazonaws.com\",\n",
    "        \"user-agent\": \"Slackbot 1.0 (+https://api.slack.com/robots)\",\n",
    "        \"x-amzn-trace-id\": \"Root=1-667e3260-7de51df02b89cc5c5de0dce4\",\n",
    "        \"x-forwarded-for\": \"44.204.99.172\",\n",
    "        \"x-forwarded-port\": \"443\",\n",
    "        \"x-forwarded-proto\": \"https\",\n",
    "        \"x-slack-request-timestamp\": \"1719546464\",\n",
    "        \"x-slack-retry-num\": \"1\",\n",
    "        \"x-slack-retry-reason\": \"http_timeout\",\n",
    "        \"x-slack-signature\": \"v0=ff3e91af96b1f84f40bebabbb39ce85b755f446ee24ee4900afe46b33081f95f\"\n",
    "    },\n",
    "    \"requestContext\": {\n",
    "        \"accountId\": \"387546586013\",\n",
    "        \"apiId\": \"vmnqlq0emg\",\n",
    "        \"domainName\": \"vmnqlq0emg.execute-api.eu-west-1.amazonaws.com\",\n",
    "        \"domainPrefix\": \"vmnqlq0emg\",\n",
    "        \"http\": {\n",
    "            \"method\": \"POST\",\n",
    "            \"path\": \"/slack\",\n",
    "            \"protocol\": \"HTTP/1.1\",\n",
    "            \"sourceIp\": \"44.204.99.172\",\n",
    "            \"userAgent\": \"Slackbot 1.0 (+https://api.slack.com/robots)\"\n",
    "        },\n",
    "        \"requestId\": \"aDzPLhYUDoEEPgg=\",\n",
    "        \"routeKey\": \"ANY /slack\",\n",
    "        \"stage\": \"$default\",\n",
    "        \"time\": \"28/Jun/2024:03:47:44 +0000\",\n",
    "        \"timeEpoch\": 1719546464880\n",
    "    },\n",
    "    \"body\": \"{\\\"token\\\":\\\"uURN4G72mcTUEu4NNlJ0RAqA\\\",\\\"team_id\\\":\\\"T01ATQK62F8\\\",\\\"context_team_id\\\":\\\"T01ATQK62F8\\\",\\\"context_enterprise_id\\\":null,\\\"api_app_id\\\":\\\"A01S395330A\\\",\\\"event\\\":{\\\"type\\\":\\\"reaction_added\\\",\\\"user\\\":\\\"U01AXE0P5M3\\\",\\\"reaction\\\":\\\"ask-ai\\\",\\\"item\\\":{\\\"type\\\":\\\"message\\\",\\\"channel\\\":\\\"C01S3EGKMJP\\\",\\\"ts\\\":\\\"1719518688.333429\\\"},\\\"item_user\\\":\\\"U01AXE0P5M3\\\",\\\"event_ts\\\":\\\"1719546461.007900\\\"},\\\"type\\\":\\\"event_callback\\\",\\\"event_id\\\":\\\"Ev079ZCHBET0\\\",\\\"event_time\\\":1719546461,\\\"authorizations\\\":[{\\\"enterprise_id\\\":null,\\\"team_id\\\":\\\"T01ATQK62F8\\\",\\\"user_id\\\":\\\"U01AXE0P5M3\\\",\\\"is_bot\\\":false,\\\"is_enterprise_install\\\":false}],\\\"is_ext_shared_channel\\\":false,\\\"event_context\\\":\\\"4-eyJldCI6InJlYWN0aW9uX2FkZGVkIiwidGlkIjoiVDAxQVRRSzYyRjgiLCJhaWQiOiJBMDFTMzk1MzMwQSIsImNpZCI6IkMwMVMzRUdLTUpQIn0\\\"}\",\n",
    "    \"isBase64Encoded\": False\n",
    "}"
   ]
  },
  {
   "cell_type": "code",
   "execution_count": 4,
   "id": "12eb813b-ac89-42c4-89e4-f4f22d61ac32",
   "metadata": {},
   "outputs": [],
   "source": [
    "import json"
   ]
  },
  {
   "cell_type": "code",
   "execution_count": 5,
   "id": "641caa5f-24e8-4914-96a5-bc108ed1fd9b",
   "metadata": {},
   "outputs": [],
   "source": [
    "with open('event.json') as f_in:\n",
    "    event = json.load(f_in)"
   ]
  },
  {
   "cell_type": "code",
   "execution_count": 6,
   "id": "a5d2a743-8a87-4e5c-a546-d65cc8c618d4",
   "metadata": {},
   "outputs": [
    {
     "name": "stdout",
     "output_type": "stream",
     "text": [
      "{\"version\": \"2.0\", \"routeKey\": \"ANY /slack\", \"rawPath\": \"/slack\", \"rawQueryString\": \"\", \"headers\": {\"accept\": \"*/*\", \"accept-encoding\": \"gzip,deflate\", \"content-length\": \"726\", \"content-type\": \"application/json\", \"host\": \"vmnqlq0emg.execute-api.eu-west-1.amazonaws.com\", \"user-agent\": \"Slackbot 1.0 (+https://api.slack.com/robots)\", \"x-amzn-trace-id\": \"Root=1-667d9393-784fc3e436a932c4126720f2\", \"x-forwarded-for\": \"3.237.26.23\", \"x-forwarded-port\": \"443\", \"x-forwarded-proto\": \"https\", \"x-slack-request-timestamp\": \"1719505810\", \"x-slack-signature\": \"v0=03e71a88058013f23da11e3bf7b12cf287e1e138e2791f812b6ce5d5944c9efb\"}, \"requestContext\": {\"accountId\": \"387546586013\", \"apiId\": \"vmnqlq0emg\", \"domainName\": \"vmnqlq0emg.execute-api.eu-west-1.amazonaws.com\", \"domainPrefix\": \"vmnqlq0emg\", \"http\": {\"method\": \"POST\", \"path\": \"/slack\", \"protocol\": \"HTTP/1.1\", \"sourceIp\": \"3.237.26.23\", \"userAgent\": \"Slackbot 1.0 (+https://api.slack.com/robots)\"}, \"requestId\": \"aCP_Bi0WDoEEMSQ=\", \"routeKey\": \"ANY /slack\", \"stage\": \"$default\", \"time\": \"27/Jun/2024:16:30:11 +0000\", \"timeEpoch\": 1719505811093}, \"body\": \"{\\\"token\\\":\\\"uURN4G72mcTUEu4NNlJ0RAqA\\\",\\\"team_id\\\":\\\"T01ATQK62F8\\\",\\\"context_team_id\\\":\\\"T01ATQK62F8\\\",\\\"context_enterprise_id\\\":null,\\\"api_app_id\\\":\\\"A01S395330A\\\",\\\"event\\\":{\\\"type\\\":\\\"reaction_added\\\",\\\"user\\\":\\\"U01AXE0P5M3\\\",\\\"reaction\\\":\\\"ask-ai\\\",\\\"item\\\":{\\\"type\\\":\\\"message\\\",\\\"channel\\\":\\\"C01S3EGKMJP\\\",\\\"ts\\\":\\\"1719505805.593239\\\"},\\\"item_user\\\":\\\"U01AXE0P5M3\\\",\\\"event_ts\\\":\\\"1719505810.000100\\\"},\\\"type\\\":\\\"event_callback\\\",\\\"event_id\\\":\\\"Ev07A37MQV5Y\\\",\\\"event_time\\\":1719505810,\\\"authorizations\\\":[{\\\"enterprise_id\\\":null,\\\"team_id\\\":\\\"T01ATQK62F8\\\",\\\"user_id\\\":\\\"U01AXE0P5M3\\\",\\\"is_bot\\\":false,\\\"is_enterprise_install\\\":false}],\\\"is_ext_shared_channel\\\":false,\\\"event_context\\\":\\\"4-eyJldCI6InJlYWN0aW9uX2FkZGVkIiwidGlkIjoiVDAxQVRRSzYyRjgiLCJhaWQiOiJBMDFTMzk1MzMwQSIsImNpZCI6IkMwMVMzRUdLTUpQIn0\\\"}\", \"isBase64Encoded\": false}\n",
      "{\"token\": \"uURN4G72mcTUEu4NNlJ0RAqA\", \"team_id\": \"T01ATQK62F8\", \"context_team_id\": \"T01ATQK62F8\", \"context_enterprise_id\": null, \"api_app_id\": \"A01S395330A\", \"event\": {\"type\": \"reaction_added\", \"user\": \"U01AXE0P5M3\", \"reaction\": \"ask-ai\", \"item\": {\"type\": \"message\", \"channel\": \"C01S3EGKMJP\", \"ts\": \"1719505805.593239\"}, \"item_user\": \"U01AXE0P5M3\", \"event_ts\": \"1719505810.000100\"}, \"type\": \"event_callback\", \"event_id\": \"Ev07A37MQV5Y\", \"event_time\": 1719505810, \"authorizations\": [{\"enterprise_id\": null, \"team_id\": \"T01ATQK62F8\", \"user_id\": \"U01AXE0P5M3\", \"is_bot\": false, \"is_enterprise_install\": false}], \"is_ext_shared_channel\": false, \"event_context\": \"4-eyJldCI6InJlYWN0aW9uX2FkZGVkIiwidGlkIjoiVDAxQVRRSzYyRjgiLCJhaWQiOiJBMDFTMzk1MzMwQSIsImNpZCI6IkMwMVMzRUdLTUpQIn0\"}\n",
      "{\"timestamp\": \"2024-06-28T10:20:29.997173+00:00Z\", \"level\": \"INFO\", \"message\": \"user: U01AXE0P5M3 (admin: True), event_type: reaction_added\", \"function\": \"lambda_handler\", \"line\": 391}\n",
      "{\"timestamp\": \"2024-06-28T10:20:29.999285+00:00Z\", \"level\": \"INFO\", \"message\": \"reaction: ask-ai, action: <function ask_ai at 0x000002777FDBEDE0>\", \"function\": \"lambda_handler\", \"line\": 396}\n",
      "{\"timestamp\": \"2024-06-28T10:20:32.454917+00:00Z\", \"level\": \"INFO\", \"message\": \"response from GROQ: You can use the `ls` command with the `-lh` options to list files in a human-readable format, and then pipe the output to `sort` to sort the files by size in descending order. Here's an example:\\n```\\nls -lh | sort -h -r\\n```\\nThis will show you the largest files at the top of the list.\\n\\nHere's a breakdown of the options used:\\n\\n* `ls -lh`: Lists files in a human-readable format, with file sizes displayed in a human-readable format (e.g., `1K`, `234M`, etc.).\\n* `sort -h -r`: Sorts the output by file size in descending order (largest files first). The `-h` option tells `sort` to use human-readable file sizes, and the `-r` option reverses the sort order (so largest files come first).\\n\\nIf you want to see only the top N largest files, you can use `head` to limit the output:\\n```\\nls -lh | sort -h -r | head -n 10\\n```\\nThis will show you the 10 largest files in the directory.\\n\\nAlternatively, you can use the `find` command with the `-size` option to search for files by size:\\n```\\nfind . -type f -size +100k -print0 | xargs -0 ls -lh | sort -h -r\\n```\\nThis will find files larger than 100KB in the current directory and its subdirectories, and then list them in a human-readable format, sorted by size in descending order.\\n\\nNote: The `.` in the `find` command refers to the current directory. You can replace it with a specific directory path if needed.\", \"function\": \"ask_ai\", \"line\": 354}\n",
      "{\"timestamp\": \"2024-06-28T10:20:32.455477+00:00Z\", \"level\": \"INFO\", \"message\": \"posting Hi <@U01AXE0P5M3>! We asked AI, and this is what it answered:\\n\\nYou can use the `ls` command with the `-lh` options to list files in a human-readable format, and then pipe the output to `sort` to sort the files by size in descending order. Here's an example:\\n```\\nls -lh | sort -h -r\\n```\\nThis will show you the largest files at the top of the list.\\n\\nHere's a breakdown of the options used:\\n\\n* `ls -lh`: Lists files in a human-readable format, with file sizes displayed in a human-readable format (e.g., `1K`, `234M`, etc.).\\n* `sort -h -r`: Sorts the output by file size in descending order (largest files first). The `-h` option tells `sort` to use human-readable file sizes, and the `-r` option reverses the sort order (so largest files come first).\\n\\nIf you want to see only the top N largest files, you can use `head` to limit the output:\\n```\\nls -lh | sort -h -r | head -n 10\\n```\\nThis will show you the 10 largest files in the directory.\\n\\nAlternatively, you can use the `find` command with the `-size` option to search for files by size:\\n```\\nfind . -type f -size +100k -print0 | xargs -0 ls -lh | sort -h -r\\n```\\nThis will find files larger than 100KB in the current directory and its subdirectories, and then list them in a human-readable format, sorted by size in descending order.\\n\\nNote: The `.` in the `find` command refers to the current directory. You can replace it with a specific directory path if needed. to C01S3EGKMJP...\", \"function\": \"post_message_thread\", \"line\": 96}\n",
      "{\"ok\": true, \"channel\": \"C01S3EGKMJP\", \"ts\": \"1719570033.182289\", \"message\": {\"user\": \"U01S08W6Z9T\", \"type\": \"message\", \"ts\": \"1719570033.182289\", \"bot_id\": \"B01S9G1UZJQ\", \"app_id\": \"A01S395330A\", \"text\": \"Hi <@U01AXE0P5M3>! We asked AI, and this is what it answered:\\n\\nYou can use the `ls` command with the `-lh` options to list files in a human-readable format, and then pipe the output to `sort` to sort the files by size in descending order. Here's an example:\\n```\\nls -lh | sort -h -r\\n```\\nThis will show you the largest files at the top of the list.\\n\\nHere's a breakdown of the options used:\\n\\n* `ls -lh`: Lists files in a human-readable format, with file sizes displayed in a human-readable format (e.g., `1K`, `234M`, etc.).\\n* `sort -h -r`: Sorts the output by file size in descending order (largest files first). The `-h` option tells `sort` to use human-readable file sizes, and the `-r` option reverses the sort order (so largest files come first).\\n\\nIf you want to see only the top N largest files, you can use `head` to limit the output:\\n```\\nls -lh | sort -h -r | head -n 10\\n```\\nThis will show you the 10 largest files in the directory.\\n\\nAlternatively, you can use the `find` command with the `-size` option to search for files by size:\\n```\\nfind . -type f -size +100k -print0 | xargs -0 ls -lh | sort -h -r\\n```\\nThis will find files larger than 100KB in the current directory and its subdirectories, and then list them in a human-readable format, sorted by size in descending order.\\n\\nNote: The `.` in the `find` command refers to the current directory. You can replace it with a specific directory path if needed.\", \"team\": \"T01ATQK62F8\", \"bot_profile\": {\"id\": \"B01S9G1UZJQ\", \"app_id\": \"A01S395330A\", \"name\": \"Au-Tomator\", \"icons\": {\"image_36\": \"https://avatars.slack-edge.com/2021-03-22/1911124369856_9b56909065e261e16499_36.png\", \"image_48\": \"https://avatars.slack-edge.com/2021-03-22/1911124369856_9b56909065e261e16499_48.png\", \"image_72\": \"https://avatars.slack-edge.com/2021-03-22/1911124369856_9b56909065e261e16499_72.png\"}, \"deleted\": false, \"updated\": 1616451337, \"team_id\": \"T01ATQK62F8\"}, \"thread_ts\": \"1719505805.593239\", \"parent_user_id\": \"U01AXE0P5M3\", \"blocks\": [{\"type\": \"section\", \"block_id\": \"cfvf4\", \"text\": {\"type\": \"mrkdwn\", \"text\": \"Hi <@U01AXE0P5M3>! We asked AI, and this is what it answered:\\n\\nYou can use the `ls` command with the `-lh` options to list files in a human-readable format, and then pipe the output to `sort` to sort the files by size in descending order. Here's an example:\\n```\\nls -lh | sort -h -r\\n```\\nThis will show you the largest files at the top of the list.\\n\\nHere's a breakdown of the options used:\\n\\n* `ls -lh`: Lists files in a human-readable format, with file sizes displayed in a human-readable format (e.g., `1K`, `234M`, etc.).\\n* `sort -h -r`: Sorts the output by file size in descending order (largest files first). The `-h` option tells `sort` to use human-readable file sizes, and the `-r` option reverses the sort order (so largest files come first).\\n\\nIf you want to see only the top N largest files, you can use `head` to limit the output:\\n```\\nls -lh | sort -h -r | head -n 10\\n```\\nThis will show you the 10 largest files in the directory.\\n\\nAlternatively, you can use the `find` command with the `-size` option to search for files by size:\\n```\\nfind . -type f -size +100k -print0 | xargs -0 ls -lh | sort -h -r\\n```\\nThis will find files larger than 100KB in the current directory and its subdirectories, and then list them in a human-readable format, sorted by size in descending order.\\n\\nNote: The `.` in the `find` command refers to the current directory. You can replace it with a specific directory path if needed.\", \"verbatim\": false}}]}, \"warning\": \"missing_charset\", \"response_metadata\": {\"warnings\": [\"missing_charset\"]}}\n"
     ]
    },
    {
     "data": {
      "text/plain": [
       "{'statusCode': 200, 'body': 'Hello from lambda!'}"
      ]
     },
     "execution_count": 6,
     "metadata": {},
     "output_type": "execute_result"
    }
   ],
   "source": [
    "lambda_function.lambda_handler(event, None)"
   ]
  },
  {
   "cell_type": "code",
   "execution_count": null,
   "id": "b4a4dc81-ec23-4c19-90d8-435cbf2c960e",
   "metadata": {},
   "outputs": [],
   "source": []
  }
 ],
 "metadata": {
  "kernelspec": {
   "display_name": "Python 3 (ipykernel)",
   "language": "python",
   "name": "python3"
  },
  "language_info": {
   "codemirror_mode": {
    "name": "ipython",
    "version": 3
   },
   "file_extension": ".py",
   "mimetype": "text/x-python",
   "name": "python",
   "nbconvert_exporter": "python",
   "pygments_lexer": "ipython3",
   "version": "3.12.3"
  }
 },
 "nbformat": 4,
 "nbformat_minor": 5
}
