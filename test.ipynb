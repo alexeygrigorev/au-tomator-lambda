{
 "cells": [
  {
   "cell_type": "code",
   "execution_count": 3,
   "id": "2a140003-42a4-4113-996c-69d7fd785b9a",
   "metadata": {},
   "outputs": [],
   "source": [
    "import lambda_function"
   ]
  },
  {
   "cell_type": "code",
   "execution_count": 4,
   "id": "c74db6b0-fbbd-4435-834b-9404ee4db4c2",
   "metadata": {},
   "outputs": [],
   "source": [
    "event = {\n",
    "    \"version\": \"2.0\",\n",
    "    \"routeKey\": \"ANY /slack\",\n",
    "    \"rawPath\": \"/slack\",\n",
    "    \"rawQueryString\": \"\",\n",
    "    \"headers\": {\n",
    "        \"accept\": \"*/*\",\n",
    "        \"accept-encoding\": \"gzip,deflate\",\n",
    "        \"content-length\": \"726\",\n",
    "        \"content-type\": \"application/json\",\n",
    "        \"host\": \"vmnqlq0emg.execute-api.eu-west-1.amazonaws.com\",\n",
    "        \"user-agent\": \"Slackbot 1.0 (+https://api.slack.com/robots)\",\n",
    "        \"x-amzn-trace-id\": \"Root=1-667d9393-784fc3e436a932c4126720f2\",\n",
    "        \"x-forwarded-for\": \"3.237.26.23\",\n",
    "        \"x-forwarded-port\": \"443\",\n",
    "        \"x-forwarded-proto\": \"https\",\n",
    "        \"x-slack-request-timestamp\": \"1719505810\",\n",
    "        \"x-slack-signature\": \"v0=03e71a88058013f23da11e3bf7b12cf287e1e138e2791f812b6ce5d5944c9efb\"\n",
    "    },\n",
    "    \"requestContext\": {\n",
    "        \"accountId\": \"387546586013\",\n",
    "        \"apiId\": \"vmnqlq0emg\",\n",
    "        \"domainName\": \"vmnqlq0emg.execute-api.eu-west-1.amazonaws.com\",\n",
    "        \"domainPrefix\": \"vmnqlq0emg\",\n",
    "        \"http\": {\n",
    "            \"method\": \"POST\",\n",
    "            \"path\": \"/slack\",\n",
    "            \"protocol\": \"HTTP/1.1\",\n",
    "            \"sourceIp\": \"3.237.26.23\",\n",
    "            \"userAgent\": \"Slackbot 1.0 (+https://api.slack.com/robots)\"\n",
    "        },\n",
    "        \"requestId\": \"aCP_Bi0WDoEEMSQ=\",\n",
    "        \"routeKey\": \"ANY /slack\",\n",
    "        \"stage\": \"$default\",\n",
    "        \"time\": \"27/Jun/2024:16:30:11 +0000\",\n",
    "        \"timeEpoch\": 1719505811093\n",
    "    },\n",
    "    \"body\": \"{\\\"token\\\":\\\"uURN4G72mcTUEu4NNlJ0RAqA\\\",\\\"team_id\\\":\\\"T01ATQK62F8\\\",\\\"context_team_id\\\":\\\"T01ATQK62F8\\\",\\\"context_enterprise_id\\\":null,\\\"api_app_id\\\":\\\"A01S395330A\\\",\\\"event\\\":{\\\"type\\\":\\\"reaction_added\\\",\\\"user\\\":\\\"U01AXE0P5M3\\\",\\\"reaction\\\":\\\"ask-ai\\\",\\\"item\\\":{\\\"type\\\":\\\"message\\\",\\\"channel\\\":\\\"C01S3EGKMJP\\\",\\\"ts\\\":\\\"1719505805.593239\\\"},\\\"item_user\\\":\\\"U01AXE0P5M3\\\",\\\"event_ts\\\":\\\"1719505810.000100\\\"},\\\"type\\\":\\\"event_callback\\\",\\\"event_id\\\":\\\"Ev07A37MQV5Y\\\",\\\"event_time\\\":1719505810,\\\"authorizations\\\":[{\\\"enterprise_id\\\":null,\\\"team_id\\\":\\\"T01ATQK62F8\\\",\\\"user_id\\\":\\\"U01AXE0P5M3\\\",\\\"is_bot\\\":false,\\\"is_enterprise_install\\\":false}],\\\"is_ext_shared_channel\\\":false,\\\"event_context\\\":\\\"4-eyJldCI6InJlYWN0aW9uX2FkZGVkIiwidGlkIjoiVDAxQVRRSzYyRjgiLCJhaWQiOiJBMDFTMzk1MzMwQSIsImNpZCI6IkMwMVMzRUdLTUpQIn0\\\"}\",\n",
    "    \"isBase64Encoded\": False\n",
    "}"
   ]
  },
  {
   "cell_type": "code",
   "execution_count": 5,
   "id": "a5d2a743-8a87-4e5c-a546-d65cc8c618d4",
   "metadata": {},
   "outputs": [
    {
     "name": "stdout",
     "output_type": "stream",
     "text": [
      "{\"version\": \"2.0\", \"routeKey\": \"ANY /slack\", \"rawPath\": \"/slack\", \"rawQueryString\": \"\", \"headers\": {\"accept\": \"*/*\", \"accept-encoding\": \"gzip,deflate\", \"content-length\": \"726\", \"content-type\": \"application/json\", \"host\": \"vmnqlq0emg.execute-api.eu-west-1.amazonaws.com\", \"user-agent\": \"Slackbot 1.0 (+https://api.slack.com/robots)\", \"x-amzn-trace-id\": \"Root=1-667d9393-784fc3e436a932c4126720f2\", \"x-forwarded-for\": \"3.237.26.23\", \"x-forwarded-port\": \"443\", \"x-forwarded-proto\": \"https\", \"x-slack-request-timestamp\": \"1719505810\", \"x-slack-signature\": \"v0=03e71a88058013f23da11e3bf7b12cf287e1e138e2791f812b6ce5d5944c9efb\"}, \"requestContext\": {\"accountId\": \"387546586013\", \"apiId\": \"vmnqlq0emg\", \"domainName\": \"vmnqlq0emg.execute-api.eu-west-1.amazonaws.com\", \"domainPrefix\": \"vmnqlq0emg\", \"http\": {\"method\": \"POST\", \"path\": \"/slack\", \"protocol\": \"HTTP/1.1\", \"sourceIp\": \"3.237.26.23\", \"userAgent\": \"Slackbot 1.0 (+https://api.slack.com/robots)\"}, \"requestId\": \"aCP_Bi0WDoEEMSQ=\", \"routeKey\": \"ANY /slack\", \"stage\": \"$default\", \"time\": \"27/Jun/2024:16:30:11 +0000\", \"timeEpoch\": 1719505811093}, \"body\": \"{\\\"token\\\":\\\"uURN4G72mcTUEu4NNlJ0RAqA\\\",\\\"team_id\\\":\\\"T01ATQK62F8\\\",\\\"context_team_id\\\":\\\"T01ATQK62F8\\\",\\\"context_enterprise_id\\\":null,\\\"api_app_id\\\":\\\"A01S395330A\\\",\\\"event\\\":{\\\"type\\\":\\\"reaction_added\\\",\\\"user\\\":\\\"U01AXE0P5M3\\\",\\\"reaction\\\":\\\"ask-ai\\\",\\\"item\\\":{\\\"type\\\":\\\"message\\\",\\\"channel\\\":\\\"C01S3EGKMJP\\\",\\\"ts\\\":\\\"1719505805.593239\\\"},\\\"item_user\\\":\\\"U01AXE0P5M3\\\",\\\"event_ts\\\":\\\"1719505810.000100\\\"},\\\"type\\\":\\\"event_callback\\\",\\\"event_id\\\":\\\"Ev07A37MQV5Y\\\",\\\"event_time\\\":1719505810,\\\"authorizations\\\":[{\\\"enterprise_id\\\":null,\\\"team_id\\\":\\\"T01ATQK62F8\\\",\\\"user_id\\\":\\\"U01AXE0P5M3\\\",\\\"is_bot\\\":false,\\\"is_enterprise_install\\\":false}],\\\"is_ext_shared_channel\\\":false,\\\"event_context\\\":\\\"4-eyJldCI6InJlYWN0aW9uX2FkZGVkIiwidGlkIjoiVDAxQVRRSzYyRjgiLCJhaWQiOiJBMDFTMzk1MzMwQSIsImNpZCI6IkMwMVMzRUdLTUpQIn0\\\"}\", \"isBase64Encoded\": false}\n",
      "{\"token\": \"uURN4G72mcTUEu4NNlJ0RAqA\", \"team_id\": \"T01ATQK62F8\", \"context_team_id\": \"T01ATQK62F8\", \"context_enterprise_id\": null, \"api_app_id\": \"A01S395330A\", \"event\": {\"type\": \"reaction_added\", \"user\": \"U01AXE0P5M3\", \"reaction\": \"ask-ai\", \"item\": {\"type\": \"message\", \"channel\": \"C01S3EGKMJP\", \"ts\": \"1719505805.593239\"}, \"item_user\": \"U01AXE0P5M3\", \"event_ts\": \"1719505810.000100\"}, \"type\": \"event_callback\", \"event_id\": \"Ev07A37MQV5Y\", \"event_time\": 1719505810, \"authorizations\": [{\"enterprise_id\": null, \"team_id\": \"T01ATQK62F8\", \"user_id\": \"U01AXE0P5M3\", \"is_bot\": false, \"is_enterprise_install\": false}], \"is_ext_shared_channel\": false, \"event_context\": \"4-eyJldCI6InJlYWN0aW9uX2FkZGVkIiwidGlkIjoiVDAxQVRRSzYyRjgiLCJhaWQiOiJBMDFTMzk1MzMwQSIsImNpZCI6IkMwMVMzRUdLTUpQIn0\"}\n",
      "user: U01AXE0P5M3 (admin: True), event_type: reaction_added\n",
      "reaction: ask-ai, action: <function ask_ai at 0x000001EF027A2520>\n",
      "response from GROQ: You can use the `ls` command with the `-l` and `-S` options to see the largest files in a directory with bash.\n",
      "\n",
      "Here's an example:\n",
      "```\n",
      "ls -lS\n",
      "```\n",
      "This will list the files in the current directory, sorted by size in descending order (largest files first). The `-l` option stands for \"long\" and shows detailed file information, including size, while the `-S` option stands for \"sort\" and sorts the list by file size.\n",
      "\n",
      "If you want to see only the top N largest files, you can use the `head` command:\n",
      "```\n",
      "ls -lS | head -n 10\n",
      "```\n",
      "This will show you the 10 largest files in the directory.\n",
      "\n",
      "Alternatively, you can use the `du` command to see the largest files in a directory:\n",
      "```\n",
      "du -sh * | sort -hr | head -n 10\n",
      "```\n",
      "This will show you the 10 largest files in the directory, along with their size in human-readable format (e.g. MB, GB, etc.).\n",
      "\n",
      "Here's a breakdown of the `du` command:\n",
      "\n",
      "* `du` stands for \"disk usage\"\n",
      "* `-s` stands for \"summary\" and shows the total size of each file\n",
      "* `-h` stands for \"human-readable\" and shows the size in a human-readable format\n",
      "* `*` is a glob that matches all files in the current directory\n",
      "* `sort -hr` sorts the output by size in descending order (largest files first)\n",
      "* `head -n 10` shows only the top 10 results\n",
      "posting Hi <@U01AXE0P5M3>! We asked AI, and this is what it answered:\n",
      "\n",
      "---\n",
      "\n",
      "You can use the `ls` command with the `-l` and `-S` options to see the largest files in a directory with bash.\n",
      "\n",
      "Here's an example:\n",
      "```\n",
      "ls -lS\n",
      "```\n",
      "This will list the files in the current directory, sorted by size in descending order (largest files first). The `-l` option stands for \"long\" and shows detailed file information, including size, while the `-S` option stands for \"sort\" and sorts the list by file size.\n",
      "\n",
      "If you want to see only the top N largest files, you can use the `head` command:\n",
      "```\n",
      "ls -lS | head -n 10\n",
      "```\n",
      "This will show you the 10 largest files in the directory.\n",
      "\n",
      "Alternatively, you can use the `du` command to see the largest files in a directory:\n",
      "```\n",
      "du -sh * | sort -hr | head -n 10\n",
      "```\n",
      "This will show you the 10 largest files in the directory, along with their size in human-readable format (e.g. MB, GB, etc.).\n",
      "\n",
      "Here's a breakdown of the `du` command:\n",
      "\n",
      "* `du` stands for \"disk usage\"\n",
      "* `-s` stands for \"summary\" and shows the total size of each file\n",
      "* `-h` stands for \"human-readable\" and shows the size in a human-readable format\n",
      "* `*` is a glob that matches all files in the current directory\n",
      "* `sort -hr` sorts the output by size in descending order (largest files first)\n",
      "* `head -n 10` shows only the top 10 results to C01S3EGKMJP...\n",
      "{\"ok\": true, \"channel\": \"C01S3EGKMJP\", \"ts\": \"1719506502.860189\", \"message\": {\"user\": \"U01S08W6Z9T\", \"type\": \"message\", \"ts\": \"1719506502.860189\", \"bot_id\": \"B01S9G1UZJQ\", \"app_id\": \"A01S395330A\", \"text\": \"Hi <@U01AXE0P5M3>! We asked AI, and this is what it answered:\\n\\n---\\n\\nYou can use the `ls` command with the `-l` and `-S` options to see the largest files in a directory with bash.\\n\\nHere's an example:\\n```\\nls -lS\\n```\\nThis will list the files in the current directory, sorted by size in descending order (largest files first). The `-l` option stands for \\\"long\\\" and shows detailed file information, including size, while the `-S` option stands for \\\"sort\\\" and sorts the list by file size.\\n\\nIf you want to see only the top N largest files, you can use the `head` command:\\n```\\nls -lS | head -n 10\\n```\\nThis will show you the 10 largest files in the directory.\\n\\nAlternatively, you can use the `du` command to see the largest files in a directory:\\n```\\ndu -sh * | sort -hr | head -n 10\\n```\\nThis will show you the 10 largest files in the directory, along with their size in human-readable format (e.g. MB, GB, etc.).\\n\\nHere's a breakdown of the `du` command:\\n\\n* `du` stands for \\\"disk usage\\\"\\n* `-s` stands for \\\"summary\\\" and shows the total size of each file\\n* `-h` stands for \\\"human-readable\\\" and shows the size in a human-readable format\\n* `*` is a glob that matches all files in the current directory\\n* `sort -hr` sorts the output by size in descending order (largest files first)\\n* `head -n 10` shows only the top 10 results\", \"team\": \"T01ATQK62F8\", \"bot_profile\": {\"id\": \"B01S9G1UZJQ\", \"app_id\": \"A01S395330A\", \"name\": \"Au-Tomator\", \"icons\": {\"image_36\": \"https://avatars.slack-edge.com/2021-03-22/1911124369856_9b56909065e261e16499_36.png\", \"image_48\": \"https://avatars.slack-edge.com/2021-03-22/1911124369856_9b56909065e261e16499_48.png\", \"image_72\": \"https://avatars.slack-edge.com/2021-03-22/1911124369856_9b56909065e261e16499_72.png\"}, \"deleted\": false, \"updated\": 1616451337, \"team_id\": \"T01ATQK62F8\"}, \"thread_ts\": \"1719505805.593239\", \"parent_user_id\": \"U01AXE0P5M3\", \"blocks\": [{\"type\": \"section\", \"block_id\": \"eXpnr\", \"text\": {\"type\": \"mrkdwn\", \"text\": \"Hi <@U01AXE0P5M3>! We asked AI, and this is what it answered:\\n\\n---\\n\\nYou can use the `ls` command with the `-l` and `-S` options to see the largest files in a directory with bash.\\n\\nHere's an example:\\n```\\nls -lS\\n```\\nThis will list the files in the current directory, sorted by size in descending order (largest files first). The `-l` option stands for \\\"long\\\" and shows detailed file information, including size, while the `-S` option stands for \\\"sort\\\" and sorts the list by file size.\\n\\nIf you want to see only the top N largest files, you can use the `head` command:\\n```\\nls -lS | head -n 10\\n```\\nThis will show you the 10 largest files in the directory.\\n\\nAlternatively, you can use the `du` command to see the largest files in a directory:\\n```\\ndu -sh * | sort -hr | head -n 10\\n```\\nThis will show you the 10 largest files in the directory, along with their size in human-readable format (e.g. MB, GB, etc.).\\n\\nHere's a breakdown of the `du` command:\\n\\n* `du` stands for \\\"disk usage\\\"\\n* `-s` stands for \\\"summary\\\" and shows the total size of each file\\n* `-h` stands for \\\"human-readable\\\" and shows the size in a human-readable format\\n* `*` is a glob that matches all files in the current directory\\n* `sort -hr` sorts the output by size in descending order (largest files first)\\n* `head -n 10` shows only the top 10 results\", \"verbatim\": false}}]}, \"warning\": \"missing_charset\", \"response_metadata\": {\"warnings\": [\"missing_charset\"]}}\n"
     ]
    },
    {
     "data": {
      "text/plain": [
       "{'statusCode': 200, 'body': 'Hello from lambda!'}"
      ]
     },
     "execution_count": 5,
     "metadata": {},
     "output_type": "execute_result"
    }
   ],
   "source": [
    "lambda_function.lambda_handler(event, None)"
   ]
  },
  {
   "cell_type": "code",
   "execution_count": null,
   "id": "b4a4dc81-ec23-4c19-90d8-435cbf2c960e",
   "metadata": {},
   "outputs": [],
   "source": []
  }
 ],
 "metadata": {
  "kernelspec": {
   "display_name": "Python 3 (ipykernel)",
   "language": "python",
   "name": "python3"
  },
  "language_info": {
   "codemirror_mode": {
    "name": "ipython",
    "version": 3
   },
   "file_extension": ".py",
   "mimetype": "text/x-python",
   "name": "python",
   "nbconvert_exporter": "python",
   "pygments_lexer": "ipython3",
   "version": "3.12.3"
  }
 },
 "nbformat": 4,
 "nbformat_minor": 5
}
